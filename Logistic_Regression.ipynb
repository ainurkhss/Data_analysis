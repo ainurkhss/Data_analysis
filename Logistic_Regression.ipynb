{
 "cells": [
  {
   "cell_type": "code",
   "execution_count": 38,
   "id": "f3c1cb37-ca94-40d2-8087-a077170ff99d",
   "metadata": {},
   "outputs": [],
   "source": [
    "import pandas as pd\n",
    "from matplotlib import pyplot as plt\n",
    "import seaborn as sns\n",
    "import numpy as np\n",
    "from sklearn.model_selection import train_test_split\n",
    "from sklearn.linear_model import LogisticRegression\n",
    "from sklearn.metrics import confusion_matrix"
   ]
  },
  {
   "cell_type": "markdown",
   "id": "bbf40ceb-9d4c-45a8-896d-9dc1f1bb7991",
   "metadata": {},
   "source": [
    "1. COLLECT THE DATA"
   ]
  },
  {
   "cell_type": "code",
   "execution_count": 6,
   "id": "d8e6896f-8014-4bef-a25e-698af0f84ce7",
   "metadata": {},
   "outputs": [],
   "source": [
    "url = 'https://raw.githubusercontent.com/LinkedInLearning/machine-learning-with-python-logistic-regression-3211129/refs/heads/03_01/src/loan.csv'"
   ]
  },
  {
   "cell_type": "code",
   "execution_count": 9,
   "id": "c4292eeb-9c11-4ee9-b533-fe34a0c01497",
   "metadata": {},
   "outputs": [],
   "source": [
    "loan = pd.read_csv(url)"
   ]
  },
  {
   "cell_type": "code",
   "execution_count": 10,
   "id": "71e86256-8eaa-431e-9236-9ca58c6c6ff7",
   "metadata": {},
   "outputs": [
    {
     "data": {
      "text/html": [
       "<div>\n",
       "<style scoped>\n",
       "    .dataframe tbody tr th:only-of-type {\n",
       "        vertical-align: middle;\n",
       "    }\n",
       "\n",
       "    .dataframe tbody tr th {\n",
       "        vertical-align: top;\n",
       "    }\n",
       "\n",
       "    .dataframe thead th {\n",
       "        text-align: right;\n",
       "    }\n",
       "</style>\n",
       "<table border=\"1\" class=\"dataframe\">\n",
       "  <thead>\n",
       "    <tr style=\"text-align: right;\">\n",
       "      <th></th>\n",
       "      <th>Income</th>\n",
       "      <th>Loan Amount</th>\n",
       "      <th>Default</th>\n",
       "    </tr>\n",
       "  </thead>\n",
       "  <tbody>\n",
       "    <tr>\n",
       "      <th>0</th>\n",
       "      <td>30</td>\n",
       "      <td>8</td>\n",
       "      <td>No</td>\n",
       "    </tr>\n",
       "    <tr>\n",
       "      <th>1</th>\n",
       "      <td>22</td>\n",
       "      <td>10</td>\n",
       "      <td>No</td>\n",
       "    </tr>\n",
       "    <tr>\n",
       "      <th>2</th>\n",
       "      <td>33</td>\n",
       "      <td>12</td>\n",
       "      <td>No</td>\n",
       "    </tr>\n",
       "    <tr>\n",
       "      <th>3</th>\n",
       "      <td>28</td>\n",
       "      <td>20</td>\n",
       "      <td>No</td>\n",
       "    </tr>\n",
       "    <tr>\n",
       "      <th>4</th>\n",
       "      <td>23</td>\n",
       "      <td>32</td>\n",
       "      <td>No</td>\n",
       "    </tr>\n",
       "  </tbody>\n",
       "</table>\n",
       "</div>"
      ],
      "text/plain": [
       "   Income  Loan Amount Default\n",
       "0      30            8      No\n",
       "1      22           10      No\n",
       "2      33           12      No\n",
       "3      28           20      No\n",
       "4      23           32      No"
      ]
     },
     "execution_count": 10,
     "metadata": {},
     "output_type": "execute_result"
    }
   ],
   "source": [
    "loan.head()"
   ]
  },
  {
   "cell_type": "markdown",
   "id": "9c90a875-88e5-4246-a883-eeebc18190d5",
   "metadata": {},
   "source": [
    "2. EXPLORE THE DATA"
   ]
  },
  {
   "cell_type": "markdown",
   "id": "4151defd-a0a6-4aac-b7d9-9052923442f8",
   "metadata": {},
   "source": [
    "Predictors or independent vars (X1, X2): 'Income' and 'Loan Amount' columns. \n",
    "Response or dependent variable(Y): 'Default' column\n",
    "\n",
    "In this exercise we will use this loan data to train a Logistic regression model (LRM) to predict whether the borrower will default or not default on a new loan based on their income and amount of money they intend to borrow."
   ]
  },
  {
   "cell_type": "markdown",
   "id": "eabe25a3-9ad5-48b7-8c12-3c1c8a710962",
   "metadata": {},
   "source": [
    "1) Let's try to understand our data:\n",
    "Concise summary of the structure of the data by calling info() method"
   ]
  },
  {
   "cell_type": "code",
   "execution_count": 11,
   "id": "6458ef07-634a-4e04-bacb-77da67beba69",
   "metadata": {},
   "outputs": [
    {
     "name": "stdout",
     "output_type": "stream",
     "text": [
      "<class 'pandas.core.frame.DataFrame'>\n",
      "RangeIndex: 30 entries, 0 to 29\n",
      "Data columns (total 3 columns):\n",
      " #   Column       Non-Null Count  Dtype \n",
      "---  ------       --------------  ----- \n",
      " 0   Income       30 non-null     int64 \n",
      " 1   Loan Amount  30 non-null     int64 \n",
      " 2   Default      30 non-null     object\n",
      "dtypes: int64(2), object(1)\n",
      "memory usage: 848.0+ bytes\n"
     ]
    }
   ],
   "source": [
    "loan.info()"
   ]
  },
  {
   "cell_type": "markdown",
   "id": "4017f5fc-8ceb-4f48-a245-7bf04b0ca376",
   "metadata": {},
   "source": [
    "By looking at the RangeIndex value from the summary, we can tell that there are 30 rows (or instances) in the dataset.\n",
    "'Default' column holds 'text' which listed as 'object', while 'Income' and 'Loan Amount' columns hold integer values "
   ]
  },
  {
   "cell_type": "markdown",
   "id": "d70b94a7-b62a-46ea-a066-deeb9c5d5f1e",
   "metadata": {},
   "source": [
    "2) Let's get summary statistics for the numeric features by calling 'describe()' method of the dataframe"
   ]
  },
  {
   "cell_type": "code",
   "execution_count": 12,
   "id": "06c57c1f-f991-4412-9e2b-797b2989bb87",
   "metadata": {},
   "outputs": [
    {
     "data": {
      "text/html": [
       "<div>\n",
       "<style scoped>\n",
       "    .dataframe tbody tr th:only-of-type {\n",
       "        vertical-align: middle;\n",
       "    }\n",
       "\n",
       "    .dataframe tbody tr th {\n",
       "        vertical-align: top;\n",
       "    }\n",
       "\n",
       "    .dataframe thead th {\n",
       "        text-align: right;\n",
       "    }\n",
       "</style>\n",
       "<table border=\"1\" class=\"dataframe\">\n",
       "  <thead>\n",
       "    <tr style=\"text-align: right;\">\n",
       "      <th></th>\n",
       "      <th>Income</th>\n",
       "      <th>Loan Amount</th>\n",
       "    </tr>\n",
       "  </thead>\n",
       "  <tbody>\n",
       "    <tr>\n",
       "      <th>count</th>\n",
       "      <td>30.000000</td>\n",
       "      <td>30.000000</td>\n",
       "    </tr>\n",
       "    <tr>\n",
       "      <th>mean</th>\n",
       "      <td>20.966667</td>\n",
       "      <td>54.233333</td>\n",
       "    </tr>\n",
       "    <tr>\n",
       "      <th>std</th>\n",
       "      <td>6.195011</td>\n",
       "      <td>28.231412</td>\n",
       "    </tr>\n",
       "    <tr>\n",
       "      <th>min</th>\n",
       "      <td>12.000000</td>\n",
       "      <td>8.000000</td>\n",
       "    </tr>\n",
       "    <tr>\n",
       "      <th>25%</th>\n",
       "      <td>16.250000</td>\n",
       "      <td>32.000000</td>\n",
       "    </tr>\n",
       "    <tr>\n",
       "      <th>50%</th>\n",
       "      <td>20.500000</td>\n",
       "      <td>54.500000</td>\n",
       "    </tr>\n",
       "    <tr>\n",
       "      <th>75%</th>\n",
       "      <td>24.750000</td>\n",
       "      <td>71.750000</td>\n",
       "    </tr>\n",
       "    <tr>\n",
       "      <th>max</th>\n",
       "      <td>34.000000</td>\n",
       "      <td>110.000000</td>\n",
       "    </tr>\n",
       "  </tbody>\n",
       "</table>\n",
       "</div>"
      ],
      "text/plain": [
       "          Income  Loan Amount\n",
       "count  30.000000    30.000000\n",
       "mean   20.966667    54.233333\n",
       "std     6.195011    28.231412\n",
       "min    12.000000     8.000000\n",
       "25%    16.250000    32.000000\n",
       "50%    20.500000    54.500000\n",
       "75%    24.750000    71.750000\n",
       "max    34.000000   110.000000"
      ]
     },
     "execution_count": 12,
     "metadata": {},
     "output_type": "execute_result"
    }
   ],
   "source": [
    "loan.describe()"
   ]
  },
  {
   "cell_type": "markdown",
   "id": "41731444-9ea1-4fd1-9773-90f84f46e34c",
   "metadata": {},
   "source": [
    "3) Now that we've described our data structurally and numerically let's describe it visually as well\n",
    "   We are going to start from some Boxplot\n",
    "   Before we create the plots we need to import packages: matplotlib and seaborn (first line of the code)\n",
    "   Let's start by creating a boxplot that highlights the difference in annual income between those that did not default on their loan (NO) and those that did default (YES)\n",
    "   ax as a object name"
   ]
  },
  {
   "cell_type": "code",
   "execution_count": 14,
   "id": "08acdc54-5ecc-45f8-83a4-0c35192098a6",
   "metadata": {},
   "outputs": [
    {
     "data": {
      "image/png": "[encoded data removed]",
      "text/plain": [
       "<Figure size 640x480 with 1 Axes>"
      ]
     },
     "metadata": {},
     "output_type": "display_data"
    }
   ],
   "source": [
    "ax = sns.boxplot(data = loan, x = 'Default', y = 'Income')"
   ]
  },
  {
   "cell_type": "markdown",
   "id": "259f800b-f7cb-470f-af77-f4138a42b3c8",
   "metadata": {},
   "source": [
    "Those that did not default tend to have a higher annual income than those that did default on their loan."
   ]
  },
  {
   "cell_type": "markdown",
   "id": "37ced652-1845-4765-ab50-92ac1a1e43aa",
   "metadata": {},
   "source": [
    "4) Let's create another boxplot to highlight the difference in amount borrowed between those that did not default and those that did "
   ]
  },
  {
   "cell_type": "code",
   "execution_count": 15,
   "id": "e8b5e009-99be-44fe-8452-6ea6af72121b",
   "metadata": {},
   "outputs": [
    {
     "data": {
      "image/png": "[encoded data removed]",
      "text/plain": [
       "<Figure size 640x480 with 1 Axes>"
      ]
     },
     "metadata": {},
     "output_type": "display_data"
    }
   ],
   "source": [
    "ax = sns.boxplot(data = loan, x = 'Default', y = 'Loan Amount')"
   ]
  },
  {
   "cell_type": "markdown",
   "id": "0fd74e2e-c07f-4c30-a80e-c100b68c24f1",
   "metadata": {},
   "source": [
    "Chart shows that those that defaulted tend to have borrowed more money than those that did not default"
   ]
  },
  {
   "cell_type": "markdown",
   "id": "2529240a-a431-49d3-ac9d-874caa6c4ce4",
   "metadata": {},
   "source": [
    "5) Next let's look to some Scatterplot to see what insight we can derive from it\n",
    "If we record Default feature values No & YES as 0 & 1 we can use scatterplot to get a slightly different perspective to our data\n",
    "we need to import numpy package\n",
    "Now we create a scatterplot that describes the relationship between annual income of borrowers and loan outcomes: y is recoded, s is a size of the point"
   ]
  },
  {
   "cell_type": "code",
   "execution_count": 20,
   "id": "6b86ef0e-b297-447e-ae4d-beb9e335f7ba",
   "metadata": {},
   "outputs": [
    {
     "data": {
      "image/png": "[encoded data removed]",
      "text/plain": [
       "<Figure size 640x480 with 1 Axes>"
      ]
     },
     "metadata": {},
     "output_type": "display_data"
    }
   ],
   "source": [
    "ax = sns.scatterplot(x = loan['Income'], y = np.where(loan['Default']=='No', 0, 1), s = 150)"
   ]
  },
  {
   "cell_type": "markdown",
   "id": "29d45d20-c3f2-4d7e-a5c1-b828c6187fcf",
   "metadata": {},
   "source": [
    "6) We can describe the relationship between amount borrowed and loan outcomes "
   ]
  },
  {
   "cell_type": "code",
   "execution_count": 21,
   "id": "d2a28bc0-878e-4223-a1e0-334ca53b3c5d",
   "metadata": {},
   "outputs": [
    {
     "data": {
      "image/png": "[encoded data removed]",
      "text/plain": [
       "<Figure size 640x480 with 1 Axes>"
      ]
     },
     "metadata": {},
     "output_type": "display_data"
    }
   ],
   "source": [
    "ax = sns.scatterplot(x = loan['Loan Amount'], y = np.where(loan['Default']=='No', 0, 1), s = 150)"
   ]
  },
  {
   "cell_type": "markdown",
   "id": "35074c3e-ec45-4268-8db1-d20e55f50f66",
   "metadata": {},
   "source": [
    "Looking at these two charts we can imagine a sigmoid curve that fits the data. It tells us that Logistic regression function would model relationship between predictors and the response."
   ]
  },
  {
   "cell_type": "markdown",
   "id": "278a8938-7789-470f-8897-b0fba250fc86",
   "metadata": {},
   "source": [
    "3. PREPARE THE DATA"
   ]
  },
  {
   "cell_type": "markdown",
   "id": "c707a7ab-2c93-4a3f-851b-459499d3672f",
   "metadata": {},
   "source": [
    "6) Split the data into training and test sets: training set wil be used to train the model, test set to evaluate the model\n",
    "- Before we split the data we need to separate dependent variable from the independent variables.\n",
    "- Let's start by creating Pandas Series called 'y' for dependent var\n",
    "- Then we create a pandas DataFrame called 'X' for independent vars"
   ]
  },
  {
   "cell_type": "code",
   "execution_count": 27,
   "id": "0877097f-3a74-4206-9bc5-6a003b9fd5b1",
   "metadata": {},
   "outputs": [],
   "source": [
    "y = loan['Default'] #pandas Series w one [...]"
   ]
  },
  {
   "cell_type": "code",
   "execution_count": 26,
   "id": "1b9f732b-759a-4932-8cfc-8512e247583c",
   "metadata": {},
   "outputs": [],
   "source": [
    "X = loan[['Income', 'Loan Amount']] #pandas DataFrame w 2 square brackets [[...]]"
   ]
  },
  {
   "cell_type": "markdown",
   "id": "aecc7412-0a14-4a27-8645-60636dde1804",
   "metadata": {},
   "source": [
    "7) Import train_test_split() function from sklearn.model_selection subpackage # 1st line\n",
    "   - Using train_test_split() we can split X and y into X_train, X_test, y_train, y_test\n",
    "   - We will set train_size to 0.7 (70% of original data to be assigned to the training set, while 30% to be assigned to the test data)\n",
    "   - We also set a 'stratify' as 'y', means we want the data split using stratified random sampling approach based on the values of 'y'\n",
    "   - we will set 'random_state' to 123, so we get the same result every time we do this split"
   ]
  },
  {
   "cell_type": "code",
   "execution_count": 28,
   "id": "7cbd4235-dfa4-4273-ad2b-e3f9335cad29",
   "metadata": {},
   "outputs": [],
   "source": [
    "X_train, X_test, y_train, y_test = train_test_split(X, y, train_size = 0.7, stratify = y, random_state = 123)"
   ]
  },
  {
   "cell_type": "code",
   "execution_count": null,
   "id": "62337ed7-ad07-4890-af40-25be9a091dd5",
   "metadata": {},
   "outputs": [],
   "source": [
    "# We can refer to the shape attribute of any of newly created data sets to know how many instances (or rows, records) are in each. "
   ]
  },
  {
   "cell_type": "code",
   "execution_count": 29,
   "id": "2a8225c3-0e37-4fa7-95f9-ecab7cabef70",
   "metadata": {},
   "outputs": [
    {
     "data": {
      "text/plain": [
       "(21, 2)"
      ]
     },
     "execution_count": 29,
     "metadata": {},
     "output_type": "execute_result"
    }
   ],
   "source": [
    "X_train.shape"
   ]
  },
  {
   "cell_type": "code",
   "execution_count": null,
   "id": "f49b4f46-4ec9-42e0-bb87-02a2024babf4",
   "metadata": {},
   "outputs": [],
   "source": [
    "#21 rows out of 30 instances in the loan data were assigned to the training set (70%)"
   ]
  },
  {
   "cell_type": "code",
   "execution_count": 30,
   "id": "aac701dc-66b0-4482-831d-0b72cdbac72f",
   "metadata": {},
   "outputs": [
    {
     "data": {
      "text/plain": [
       "(9, 2)"
      ]
     },
     "execution_count": 30,
     "metadata": {},
     "output_type": "execute_result"
    }
   ],
   "source": [
    "X_test.shape # 9 out of 30 is test (30%)"
   ]
  },
  {
   "cell_type": "markdown",
   "id": "fc777067-81c3-4ae3-86c6-5d376b143969",
   "metadata": {},
   "source": [
    "4. TRAIN AND EVALUATE THE MODEL"
   ]
  },
  {
   "cell_type": "markdown",
   "id": "9d08ad71-64d1-4008-bbcf-b7ae6dde90e6",
   "metadata": {},
   "source": [
    "We are going to use the LogisticRegression class from sklearn.linear_model subpackage to train our model #1st line"
   ]
  },
  {
   "cell_type": "markdown",
   "id": "ef3a9499-ee01-414f-8176-3b147e2582ff",
   "metadata": {},
   "source": [
    "8) We can now instantiate a new object called classifier from the LogisticRegression class"
   ]
  },
  {
   "cell_type": "code",
   "execution_count": 32,
   "id": "79606e8d-842e-4a74-9ac8-3eb064e47582",
   "metadata": {},
   "outputs": [],
   "source": [
    "classifier = LogisticRegression()"
   ]
  },
  {
   "cell_type": "markdown",
   "id": "80451d06-8829-48c7-9b0f-3c8254276d14",
   "metadata": {},
   "source": [
    "9) To train the model we pass the training data (X_train and y_train) to the fit() method of the classifier object"
   ]
  },
  {
   "cell_type": "code",
   "execution_count": 33,
   "id": "117435b8-8902-4e4f-b430-9fbc73cb46af",
   "metadata": {},
   "outputs": [],
   "source": [
    "model = classifier.fit(X_train, y_train)"
   ]
  },
  {
   "cell_type": "markdown",
   "id": "b3e445a1-a699-46aa-9fa8-8206a7c5cbe8",
   "metadata": {},
   "source": [
    "10) To predict labels for the test instances, we pass independent variables of the test set (X_test) to the predict() method of the model"
   ]
  },
  {
   "cell_type": "code",
   "execution_count": 34,
   "id": "665973d7-afc9-437c-8cbc-df6215545bec",
   "metadata": {},
   "outputs": [
    {
     "data": {
      "text/plain": [
       "array(['Yes', 'Yes', 'Yes', 'Yes', 'Yes', 'No', 'No', 'No', 'Yes'],\n",
       "      dtype=object)"
      ]
     },
     "execution_count": 34,
     "metadata": {},
     "output_type": "execute_result"
    }
   ],
   "source": [
    "model.predict(X_test)"
   ]
  },
  {
   "cell_type": "markdown",
   "id": "779eece9-9e44-4587-9a43-60a9a2a38f2b",
   "metadata": {},
   "source": [
    "11) To evaluate how accurate our model is, we pass the test data(X_test, y_test) to the score() method of the model"
   ]
  },
  {
   "cell_type": "code",
   "execution_count": 35,
   "id": "595f9689-1891-4edb-8b56-3468d5bf9983",
   "metadata": {},
   "outputs": [
    {
     "data": {
      "text/plain": [
       "0.8888888888888888"
      ]
     },
     "execution_count": 35,
     "metadata": {},
     "output_type": "execute_result"
    }
   ],
   "source": [
    "model.score(X_test, y_test)"
   ]
  },
  {
   "cell_type": "markdown",
   "id": "73f7a649-b7ac-4c7a-94e8-6d13a857baf0",
   "metadata": {},
   "source": [
    "(!)The result tells us that our logistic Regression Model is able to corretly predict 8 out of 9, or 89% of the labels in the test sets."
   ]
  },
  {
   "cell_type": "markdown",
   "id": "649a7874-ad28-4c80-b44b-eae792cb7a6e",
   "metadata": {},
   "source": [
    "The accuracy of the model only gives us one-dimentional perspective of performance. To get a broader perspective, we need to generate a confusion (or error) matrix of the model's performance."
   ]
  },
  {
   "cell_type": "markdown",
   "id": "50093012-6566-4760-81d2-8d6efe0d7fb8",
   "metadata": {},
   "source": [
    "12) To do it we need to import confusion_matrix() function from the sklearn.metrics subpackage"
   ]
  },
  {
   "cell_type": "markdown",
   "id": "08652622-4fa0-4c5a-a8d0-d25809015932",
   "metadata": {},
   "source": [
    "13) Then we pass the dependent vars from the test sets (which are actual labels y_test) and the model's predicted labels to the confusion_matrix function which is model.predict(X_test)"
   ]
  },
  {
   "cell_type": "code",
   "execution_count": 39,
   "id": "5fe68f2d-f930-40eb-bf8b-39905a7369a0",
   "metadata": {},
   "outputs": [
    {
     "data": {
      "text/plain": [
       "array([[3, 1],\n",
       "       [0, 5]])"
      ]
     },
     "execution_count": 39,
     "metadata": {},
     "output_type": "execute_result"
    }
   ],
   "source": [
    "confusion_matrix(y_test, model.predict(X_test))"
   ]
  },
  {
   "cell_type": "markdown",
   "id": "96debc15-2067-409b-adde-ed562ba8caab",
   "metadata": {},
   "source": [
    "The result is 2x2 array thet shows us how many instances the model predicted correctly or incorrectly as ether Yes or No. \n",
    "This confusion matrix can be illustrated as follows:\n",
    "- the 1st row of matrix shows that of the 4 instances that were actually 'NO' the model predicted 3 as 'NO', but 1 as 'YES'\n",
    "- the 2nd row shows us that from the 5 instances that were actually \"YES', the model predicted all 5 correctly as 'YES'"
   ]
  },
  {
   "cell_type": "markdown",
   "id": "29631794-39d9-4ad2-b52c-9047d3650c70",
   "metadata": {},
   "source": [
    "Now we've successfully trained and evaluated the Logistic Regression Model. "
   ]
  },
  {
   "cell_type": "markdown",
   "id": "54bb9bc3-e723-4c60-9d23-412ed2719bcf",
   "metadata": {},
   "source": [
    "INTERPRET THE MODEL"
   ]
  },
  {
   "cell_type": "markdown",
   "id": "7d515c0e-27bd-4d99-9610-332b536d7372",
   "metadata": {},
   "source": [
    "Now, we've built LRM and evaluated the performance of the model on the test data, we can interpret the model's output. \n",
    "Specifically, the model coefficients."
   ]
  },
  {
   "cell_type": "markdown",
   "id": "96731276-9cf9-4d2d-b3f0-564559a1f6cb",
   "metadata": {},
   "source": [
    "The relationship b/w dependent and independent vars in LRM is generally represented as follows:\n",
    " - Logit (or LogOdds) as a linear combination  of the predictors log(p/(1-p))\n",
    " - B zero is intercept, B1 to Bn are the coeff of the independent vars X1 to Xn "
   ]
  },
  {
   "cell_type": "markdown",
   "id": "bdf5dbbe-ca8e-4e44-9f6b-9f6cc0cc949b",
   "metadata": {},
   "source": [
    "14) To get the intercept (or B zero) we refer to the 'intercept_'  attribute of our model"
   ]
  },
  {
   "cell_type": "code",
   "execution_count": 40,
   "id": "9b5a6591-645b-4292-910e-e3115f7302a4",
   "metadata": {},
   "outputs": [
    {
     "data": {
      "text/plain": [
       "array([15.4670632])"
      ]
     },
     "execution_count": 40,
     "metadata": {},
     "output_type": "execute_result"
    }
   ],
   "source": [
    "model.intercept_"
   ]
  },
  {
   "cell_type": "markdown",
   "id": "26e599d1-7cef-4d64-986f-455ff747af68",
   "metadata": {},
   "source": [
    "15) To get the other model coefficients (B1 and B2), we refer to the 'coef_' attribute of our model"
   ]
  },
  {
   "cell_type": "code",
   "execution_count": 41,
   "id": "32899b3f-4091-4f1e-8e2c-b75cb6db37fd",
   "metadata": {},
   "outputs": [
    {
     "data": {
      "text/plain": [
       "array([[-1.0178107 ,  0.14656096]])"
      ]
     },
     "execution_count": 41,
     "metadata": {},
     "output_type": "execute_result"
    }
   ],
   "source": [
    "model.coef_"
   ]
  },
  {
   "cell_type": "markdown",
   "id": "09b7ffc7-7cf5-47bc-952a-4efb8cc8c486",
   "metadata": {},
   "source": [
    "The model coefficients correspond to the order in which the independent vars are listed in the training data. \n",
    "This means the equation for our LRM can be written as:\n",
    "log p/(1-p) = 15.4670632 - 1.0178107 x Income + 0.14656096 x Loan Amount"
   ]
  },
  {
   "cell_type": "markdown",
   "id": "f877bb44-9b0a-4b2b-827e-4979c1c85961",
   "metadata": {},
   "source": [
    "16) To make our coefficients easier to work with, let's convert coef froma two-dimensional array to one-dimensional array and round the values to two decimal places\n",
    "    - model.coef_[0] #index only first dimension which is 0, round to two decimal"
   ]
  },
  {
   "cell_type": "code",
   "execution_count": 42,
   "id": "d9029483-6684-4d4b-8563-2991f1405a9d",
   "metadata": {},
   "outputs": [
    {
     "data": {
      "text/plain": [
       "array([-1.02,  0.15])"
      ]
     },
     "execution_count": 42,
     "metadata": {},
     "output_type": "execute_result"
    }
   ],
   "source": [
    "log_odds = np.round(model.coef_[0], 2)\n",
    "log_odds"
   ]
  },
  {
   "cell_type": "markdown",
   "id": "99a609aa-02ca-42b2-bf7f-16777ec01ba5",
   "metadata": {},
   "source": [
    "17) Next, let's create a Pandas DataFrame using a coef values and the column names from the training data as row indexes"
   ]
  },
  {
   "cell_type": "code",
   "execution_count": 43,
   "id": "3a6bedd5-1fe9-4139-8e63-eae2d914bf49",
   "metadata": {},
   "outputs": [
    {
     "data": {
      "text/html": [
       "<div>\n",
       "<style scoped>\n",
       "    .dataframe tbody tr th:only-of-type {\n",
       "        vertical-align: middle;\n",
       "    }\n",
       "\n",
       "    .dataframe tbody tr th {\n",
       "        vertical-align: top;\n",
       "    }\n",
       "\n",
       "    .dataframe thead th {\n",
       "        text-align: right;\n",
       "    }\n",
       "</style>\n",
       "<table border=\"1\" class=\"dataframe\">\n",
       "  <thead>\n",
       "    <tr style=\"text-align: right;\">\n",
       "      <th></th>\n",
       "      <th>log odds</th>\n",
       "    </tr>\n",
       "  </thead>\n",
       "  <tbody>\n",
       "    <tr>\n",
       "      <th>Income</th>\n",
       "      <td>-1.02</td>\n",
       "    </tr>\n",
       "    <tr>\n",
       "      <th>Loan Amount</th>\n",
       "      <td>0.15</td>\n",
       "    </tr>\n",
       "  </tbody>\n",
       "</table>\n",
       "</div>"
      ],
      "text/plain": [
       "             log odds\n",
       "Income          -1.02\n",
       "Loan Amount      0.15"
      ]
     },
     "execution_count": 43,
     "metadata": {},
     "output_type": "execute_result"
    }
   ],
   "source": [
    "pd.DataFrame({'log odds' : log_odds}, index = X.columns)"
   ]
  },
  {
   "cell_type": "markdown",
   "id": "6594dc38-2287-4666-a208-b70b41da07ea",
   "metadata": {},
   "source": [
    "The first coefficient tells us that, when all other variables are held constant, a 1$ increases in borrower Income decreases the Log Odds that they will default on their loan by 1.02.\n",
    "\n",
    "Likewise, the second coef tells us that 1s increases in loan Amount (customer borrows), increases the Log odds that they will default on their loan by 0.15 when all other values are held constant.\n",
    "\n",
    "Understandably, interpreting the coefficients in terms of log odds is a bit confusing. \n",
    "A more intuitive approach would be to look at them in terms of Odds. "
   ]
  },
  {
   "cell_type": "markdown",
   "id": "295ee39c-70c7-4353-99f9-5df6a9df347e",
   "metadata": {},
   "source": [
    "18) Let's exponentiate (np.exp) the coeffs so we can interpret them in terms of odds rather than log Odds"
   ]
  },
  {
   "cell_type": "code",
   "execution_count": 45,
   "id": "d43ebcd5-e977-49c4-9299-afae7f940383",
   "metadata": {},
   "outputs": [
    {
     "data": {
      "text/html": [
       "<div>\n",
       "<style scoped>\n",
       "    .dataframe tbody tr th:only-of-type {\n",
       "        vertical-align: middle;\n",
       "    }\n",
       "\n",
       "    .dataframe tbody tr th {\n",
       "        vertical-align: top;\n",
       "    }\n",
       "\n",
       "    .dataframe thead th {\n",
       "        text-align: right;\n",
       "    }\n",
       "</style>\n",
       "<table border=\"1\" class=\"dataframe\">\n",
       "  <thead>\n",
       "    <tr style=\"text-align: right;\">\n",
       "      <th></th>\n",
       "      <th>odds</th>\n",
       "    </tr>\n",
       "  </thead>\n",
       "  <tbody>\n",
       "    <tr>\n",
       "      <th>Income</th>\n",
       "      <td>0.36</td>\n",
       "    </tr>\n",
       "    <tr>\n",
       "      <th>Loan Amount</th>\n",
       "      <td>1.16</td>\n",
       "    </tr>\n",
       "  </tbody>\n",
       "</table>\n",
       "</div>"
      ],
      "text/plain": [
       "             odds\n",
       "Income       0.36\n",
       "Loan Amount  1.16"
      ]
     },
     "execution_count": 45,
     "metadata": {},
     "output_type": "execute_result"
    }
   ],
   "source": [
    "odds = np.round(np.exp(log_odds), 2)\n",
    "pd.DataFrame({'odds': odds}, index = X.columns) # to create a new DF"
   ]
  },
  {
   "cell_type": "markdown",
   "id": "7f949d53-b7b0-4aaf-8fb2-321f47fe7874",
   "metadata": {},
   "source": [
    "The 1st coefficient tells us that for every 1$ increase in a borrower's income, the odd that they will Default on loan reduces by 64% (1-0.36) when all other vars held constant. Earning more money decreases the odds of Default.\n",
    "\n",
    "The 2nd coef tells us that, assuming all other vars held constant, for every 1$ increase in the amount borrowed, the Odds that a borrower will default increases by 16% (1.16-1) or borrower will default on their loan increases by a factor of 1.16. Borrowing more money increases the Odds of default. "
   ]
  },
  {
   "cell_type": "code",
   "execution_count": null,
   "id": "8935e1f3-c6e6-4f42-9136-b273fdd54e4d",
   "metadata": {},
   "outputs": [],
   "source": []
  },
  {
   "cell_type": "code",
   "execution_count": null,
   "id": "77f4538b-98bf-4715-9d83-b1ec757ac83f",
   "metadata": {},
   "outputs": [],
   "source": []
  },
  {
   "cell_type": "code",
   "execution_count": null,
   "id": "21bc3ecf-427d-41f3-a7a9-963cfba4d1d2",
   "metadata": {},
   "outputs": [],
   "source": []
  },
  {
   "cell_type": "code",
   "execution_count": null,
   "id": "cac8f9f2-2796-45b7-9880-7abe17d9ca55",
   "metadata": {},
   "outputs": [],
   "source": []
  },
  {
   "cell_type": "code",
   "execution_count": null,
   "id": "d4fa722f-3ed8-447e-89bd-56da09654f65",
   "metadata": {},
   "outputs": [],
   "source": []
  }
 ],
 "metadata": {
  "kernelspec": {
   "display_name": "Python 3 (ipykernel)",
   "language": "python",
   "name": "python3"
  },
  "language_info": {
   "codemirror_mode": {
    "name": "ipython",
    "version": 3
   },
   "file_extension": ".py",
   "mimetype": "text/x-python",
   "name": "python",
   "nbconvert_exporter": "python",
   "pygments_lexer": "ipython3",
   "version": "3.10.16"
  }
 },
 "nbformat": 4,
 "nbformat_minor": 5
}
